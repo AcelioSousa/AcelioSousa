{
 "cells": [
  {
   "cell_type": "code",
   "execution_count": 195,
   "id": "1ed84971-9e0e-4e72-9c6a-dabaddcee1e2",
   "metadata": {},
   "outputs": [],
   "source": [
    "import numpy as np\n",
    "import pandas as pd\n",
    "from sklearn import svm\n",
    "from sklearn.datasets import make_blobs\n",
    "from sklearn.model_selection import train_test_split\n",
    "import matplotlib.pyplot as plt\n",
    "import seaborn as sns"
   ]
  },
  {
   "cell_type": "code",
   "execution_count": 141,
   "id": "07cd650b-7faa-4cc6-a68d-ac4e4f3f219f",
   "metadata": {},
   "outputs": [],
   "source": [
    "iris = datasets.load_iris()\n",
    "df = pd.DataFrame(data = iris.data, columns = iris.feature_names)\n",
    "df['label'] = iris.target\n",
    "df['species'] = pd.Categorical.from_codes(iris.target, iris.target_names)"
   ]
  },
  {
   "cell_type": "code",
   "execution_count": 142,
   "id": "dadb982f-6834-413e-9128-86e07a2fa826",
   "metadata": {},
   "outputs": [],
   "source": [
    "data = df.to_numpy()\n",
    "nrow,ncol = data.shape\n",
    "y = data[:,-2]\n",
    "X = data[:,0:ncol-2]"
   ]
  },
  {
   "cell_type": "code",
   "execution_count": 143,
   "id": "46e1bdcf-5802-4044-abe0-d5438e279691",
   "metadata": {},
   "outputs": [],
   "source": [
    "y = y.astype(int)"
   ]
  },
  {
   "cell_type": "code",
   "execution_count": 144,
   "id": "67ae96d8-12c6-4036-8483-2f8c66a87164",
   "metadata": {},
   "outputs": [],
   "source": [
    "from sklearn.preprocessing import StandardScaler\n",
    "scaler = StandardScaler().fit(X)\n",
    "X = scaler.transform(X)"
   ]
  },
  {
   "cell_type": "code",
   "execution_count": 145,
   "id": "54a17d28-e81f-4661-bb6a-490b2014521c",
   "metadata": {},
   "outputs": [],
   "source": [
    "from sklearn.model_selection import train_test_split\n",
    "X_train, X_test, y_train, y_test = train_test_split(X, y, test_size =0.2, random_state=3)"
   ]
  },
  {
   "cell_type": "code",
   "execution_count": 146,
   "id": "996feb3c-c35e-4235-926a-3bcbefc17191",
   "metadata": {},
   "outputs": [
    {
     "name": "stdout",
     "output_type": "stream",
     "text": [
      "Accuracy: 0.9333333333333333\n",
      "Accuracy: 0.9666666666666667\n",
      "Accuracy: 1.0\n",
      "Accuracy: 0.9333333333333333\n",
      "Accuracy: 1.0\n",
      "Accuracy: 1.0\n",
      "Accuracy: 0.9666666666666667\n",
      "Accuracy: 1.0\n",
      "Accuracy: 0.9333333333333333\n",
      "Accuracy: 0.9666666666666667\n",
      "Accuracy: 0.9666666666666667\n",
      "Accuracy: 0.9333333333333333\n",
      "Accuracy: 1.0\n",
      "Accuracy: 0.9333333333333333\n",
      "Accuracy: 0.9333333333333333\n",
      "Accuracy: 0.9666666666666667\n",
      "Accuracy: 0.9333333333333333\n",
      "Accuracy: 0.9666666666666667\n",
      "Accuracy: 0.9666666666666667\n",
      "Accuracy: 1.0\n"
     ]
    }
   ],
   "source": [
    "y_prede = []\n",
    "y_teste = []\n",
    "taxa_de_acerto = []\n",
    "for i in range(20):\n",
    "    from sklearn.model_selection import train_test_split\n",
    "    X_train, X_test, y_train, y_test = train_test_split(X, y, test_size =0.2)\n",
    "    y_teste.append(y_test)\n",
    "    clf = svm.SVC(kernel='linear', C=1, decision_function_shape='ovr')\n",
    "    clf.fit(X_train, y_train)\n",
    "    p = clf.predict(X_test)\n",
    "    score = accuracy_score(p, y_test)\n",
    "    taxa_de_acerto.append(score)\n",
    "    print('Accuracy:', score)\n",
    "    y_prede.append(p)"
   ]
  },
  {
   "cell_type": "code",
   "execution_count": 147,
   "id": "ad4f56d6-608e-419c-a298-7c20c80f55f4",
   "metadata": {},
   "outputs": [],
   "source": [
    "def geclosest(value, lista):\n",
    "    array = np.array(lista)\n",
    "    index = np.argmin(abs(array - value))\n",
    "    return index"
   ]
  },
  {
   "cell_type": "code",
   "execution_count": 148,
   "id": "23557591-5188-48ea-964a-079cca31e6f9",
   "metadata": {},
   "outputs": [
    {
     "name": "stdout",
     "output_type": "stream",
     "text": [
      "0.9649999999999999\n"
     ]
    }
   ],
   "source": [
    "media = np.mean(taxa_de_acerto)\n",
    "representante = geclosest(media, taxa_de_acerto)\n",
    "print(media)"
   ]
  },
  {
   "cell_type": "code",
   "execution_count": 149,
   "id": "96e9219c-13c4-4850-a956-dbdb300f7ee1",
   "metadata": {},
   "outputs": [],
   "source": [
    "representante = geclosest(media, taxa_de_acerto)"
   ]
  },
  {
   "cell_type": "code",
   "execution_count": 150,
   "id": "dc73b912-0695-4887-aa49-d69ceacdb920",
   "metadata": {},
   "outputs": [
    {
     "data": {
      "image/png": "[encoded data removed]",
      "text/plain": [
       "<Figure size 720x360 with 2 Axes>"
      ]
     },
     "metadata": {
      "needs_background": "light"
     },
     "output_type": "display_data"
    }
   ],
   "source": [
    "from sklearn.metrics import confusion_matrix, plot_confusion_matrix\n",
    "fig, ax = plt.subplots(figsize=(10,5))\n",
    "conf = confusion_matrix(y_teste[representante], y_prede[representante])\n",
    "res = sns.heatmap(conf, annot=True,fmt=\"d\", cmap=plt.cm.Blues, ax=ax)\n",
    "plt.title('Matriz de Confusão')\n",
    "plt.show;"
   ]
  },
  {
   "cell_type": "code",
   "execution_count": 151,
   "id": "200f7831-f826-47b4-b847-b1feb62c93c8",
   "metadata": {},
   "outputs": [
    {
     "data": {
      "text/plain": [
       "1.0"
      ]
     },
     "execution_count": 151,
     "metadata": {},
     "output_type": "execute_result"
    },
    {
     "data": {
      "image/png": "[encoded data removed]",
      "text/plain": [
       "<Figure size 432x288 with 1 Axes>"
      ]
     },
     "metadata": {
      "needs_background": "light"
     },
     "output_type": "display_data"
    }
   ],
   "source": [
    "from yellowbrick.classifier import ConfusionMatrix\n",
    "cm = ConfusionMatrix(clf)\n",
    "cm.fit(X_train, y_train)\n",
    "cm.score(X_test, y_test)"
   ]
  },
  {
   "cell_type": "code",
   "execution_count": 152,
   "id": "3a4aa91d-7c66-4e80-b966-a6f7a0810193",
   "metadata": {},
   "outputs": [
    {
     "name": "stdout",
     "output_type": "stream",
     "text": [
      "              precision    recall  f1-score   support\n",
      "\n",
      "           0       1.00      1.00      1.00        11\n",
      "           1       1.00      0.86      0.92         7\n",
      "           2       0.92      1.00      0.96        12\n",
      "\n",
      "    accuracy                           0.97        30\n",
      "   macro avg       0.97      0.95      0.96        30\n",
      "weighted avg       0.97      0.97      0.97        30\n",
      "\n"
     ]
    }
   ],
   "source": [
    "print(classification_report(y_teste[representante], y_prede[representante]))"
   ]
  },
  {
   "cell_type": "code",
   "execution_count": 153,
   "id": "bf2cb4f3-6dfc-457e-96a4-8f5841426c5e",
   "metadata": {},
   "outputs": [],
   "source": [
    "from matplotlib.colors import ListedColormap\n",
    "\n",
    "def make_plot(classifier,title,data,data_labels,labels):\n",
    "    step = .02\n",
    "    cmap_base = ListedColormap(['lightcoral', 'cornflowerblue', 'bisque'])\n",
    "    cmap_labels = ['red', 'blue', 'orange']\n",
    "\n",
    "   \n",
    "    x_min, x_max = data[:, 0].min() - 1, data[:, 0].max() + 1\n",
    "    y_min, y_max = data[:, 1].min() - 1, data[:, 1].max() + 1\n",
    "\n",
    "    \n",
    "    xx, yy = np.meshgrid(np.arange(x_min, x_max, step),np.arange(y_min, y_max, step))\n",
    "\n",
    "    Z = np.array(classifier.predict(np.c_[xx.ravel(), yy.ravel()]))\n",
    "    for i in range(len(np.unique(Z))):\n",
    "        Z[np.where(Z == np.unique(Z)[i])] = str(i)\n",
    "    Z = Z.astype(int)\n",
    "    Z = Z.reshape(xx.shape)\n",
    "\n",
    "\n",
    "    plt.figure()\n",
    "    plt.contourf(xx, yy, Z, cmap=cmap_base)\n",
    "\n",
    "    \n",
    "    \n",
    "    for i in range(len(labels)):\n",
    "        plt.scatter(data[data_labels == labels[i], 0], data[data_labels == labels[i], 1],\n",
    "                    facecolor=cmap_labels[i], label=labels[i],alpha=0.6, edgecolor=\"black\")\n",
    "    \n",
    "    plt.legend()\n",
    "\n",
    "    \n",
    "    plt.xlim(xx.min(), xx.max())\n",
    "    plt.ylim(yy.min(), yy.max())\n",
    "\n",
    "    plt.title(title)\n",
    "\n",
    "    plt.xlabel('X0')\n",
    "    plt.ylabel('X1')\n",
    "    plt.show()"
   ]
  },
  {
   "cell_type": "code",
   "execution_count": 154,
   "id": "1d89dc55-7a01-4d1d-9d75-db1dc74564bf",
   "metadata": {},
   "outputs": [
    {
     "data": {
      "image/png": "[encoded data removed]",
      "text/plain": [
       "<Figure size 432x288 with 1 Axes>"
      ]
     },
     "metadata": {
      "needs_background": "light"
     },
     "output_type": "display_data"
    }
   ],
   "source": [
    "from sklearn.model_selection import train_test_split\n",
    "clf = svm.SVC(kernel='linear', C=1, decision_function_shape='ovr')\n",
    "#clf.fit(X_train, y_train)\n",
    "clf.fit(X_train[:,[2,3]], y_train)\n",
    "#predictions = nb.predict(X_test)\n",
    "make_plot(clf ,'iris',X_test[:,[2,3]],y_test,np.unique(y_test))"
   ]
  },
  {
   "cell_type": "code",
   "execution_count": 155,
   "id": "756e738a-0dc1-46b8-82db-6cf054349d64",
   "metadata": {},
   "outputs": [
    {
     "data": {
      "text/plain": [
       "['malignant', 'benign']"
      ]
     },
     "execution_count": 155,
     "metadata": {},
     "output_type": "execute_result"
    }
   ],
   "source": [
    "from sklearn.datasets import load_breast_cancer\n",
    "cancer = load_breast_cancer()\n",
    "cancer.target[[10, 50, 85]]\n",
    "list(cancer.target_names)"
   ]
  },
  {
   "cell_type": "code",
   "execution_count": 156,
   "id": "6dbbc28a-7a15-4503-a746-b3e677dca470",
   "metadata": {},
   "outputs": [
    {
     "data": {
      "text/html": [
       "<div>\n",
       "<style scoped>\n",
       "    .dataframe tbody tr th:only-of-type {\n",
       "        vertical-align: middle;\n",
       "    }\n",
       "\n",
       "    .dataframe tbody tr th {\n",
       "        vertical-align: top;\n",
       "    }\n",
       "\n",
       "    .dataframe thead th {\n",
       "        text-align: right;\n",
       "    }\n",
       "</style>\n",
       "<table border=\"1\" class=\"dataframe\">\n",
       "  <thead>\n",
       "    <tr style=\"text-align: right;\">\n",
       "      <th></th>\n",
       "      <th>mean radius</th>\n",
       "      <th>mean texture</th>\n",
       "      <th>mean perimeter</th>\n",
       "      <th>mean area</th>\n",
       "      <th>mean smoothness</th>\n",
       "      <th>mean compactness</th>\n",
       "      <th>mean concavity</th>\n",
       "      <th>mean concave points</th>\n",
       "      <th>mean symmetry</th>\n",
       "      <th>mean fractal dimension</th>\n",
       "      <th>...</th>\n",
       "      <th>worst texture</th>\n",
       "      <th>worst perimeter</th>\n",
       "      <th>worst area</th>\n",
       "      <th>worst smoothness</th>\n",
       "      <th>worst compactness</th>\n",
       "      <th>worst concavity</th>\n",
       "      <th>worst concave points</th>\n",
       "      <th>worst symmetry</th>\n",
       "      <th>worst fractal dimension</th>\n",
       "      <th>target_names</th>\n",
       "    </tr>\n",
       "  </thead>\n",
       "  <tbody>\n",
       "    <tr>\n",
       "      <th>0</th>\n",
       "      <td>17.99</td>\n",
       "      <td>10.38</td>\n",
       "      <td>122.80</td>\n",
       "      <td>1001.0</td>\n",
       "      <td>0.11840</td>\n",
       "      <td>0.27760</td>\n",
       "      <td>0.30010</td>\n",
       "      <td>0.14710</td>\n",
       "      <td>0.2419</td>\n",
       "      <td>0.07871</td>\n",
       "      <td>...</td>\n",
       "      <td>17.33</td>\n",
       "      <td>184.60</td>\n",
       "      <td>2019.0</td>\n",
       "      <td>0.16220</td>\n",
       "      <td>0.66560</td>\n",
       "      <td>0.7119</td>\n",
       "      <td>0.2654</td>\n",
       "      <td>0.4601</td>\n",
       "      <td>0.11890</td>\n",
       "      <td>malignant</td>\n",
       "    </tr>\n",
       "    <tr>\n",
       "      <th>1</th>\n",
       "      <td>20.57</td>\n",
       "      <td>17.77</td>\n",
       "      <td>132.90</td>\n",
       "      <td>1326.0</td>\n",
       "      <td>0.08474</td>\n",
       "      <td>0.07864</td>\n",
       "      <td>0.08690</td>\n",
       "      <td>0.07017</td>\n",
       "      <td>0.1812</td>\n",
       "      <td>0.05667</td>\n",
       "      <td>...</td>\n",
       "      <td>23.41</td>\n",
       "      <td>158.80</td>\n",
       "      <td>1956.0</td>\n",
       "      <td>0.12380</td>\n",
       "      <td>0.18660</td>\n",
       "      <td>0.2416</td>\n",
       "      <td>0.1860</td>\n",
       "      <td>0.2750</td>\n",
       "      <td>0.08902</td>\n",
       "      <td>malignant</td>\n",
       "    </tr>\n",
       "    <tr>\n",
       "      <th>2</th>\n",
       "      <td>19.69</td>\n",
       "      <td>21.25</td>\n",
       "      <td>130.00</td>\n",
       "      <td>1203.0</td>\n",
       "      <td>0.10960</td>\n",
       "      <td>0.15990</td>\n",
       "      <td>0.19740</td>\n",
       "      <td>0.12790</td>\n",
       "      <td>0.2069</td>\n",
       "      <td>0.05999</td>\n",
       "      <td>...</td>\n",
       "      <td>25.53</td>\n",
       "      <td>152.50</td>\n",
       "      <td>1709.0</td>\n",
       "      <td>0.14440</td>\n",
       "      <td>0.42450</td>\n",
       "      <td>0.4504</td>\n",
       "      <td>0.2430</td>\n",
       "      <td>0.3613</td>\n",
       "      <td>0.08758</td>\n",
       "      <td>malignant</td>\n",
       "    </tr>\n",
       "    <tr>\n",
       "      <th>3</th>\n",
       "      <td>11.42</td>\n",
       "      <td>20.38</td>\n",
       "      <td>77.58</td>\n",
       "      <td>386.1</td>\n",
       "      <td>0.14250</td>\n",
       "      <td>0.28390</td>\n",
       "      <td>0.24140</td>\n",
       "      <td>0.10520</td>\n",
       "      <td>0.2597</td>\n",
       "      <td>0.09744</td>\n",
       "      <td>...</td>\n",
       "      <td>26.50</td>\n",
       "      <td>98.87</td>\n",
       "      <td>567.7</td>\n",
       "      <td>0.20980</td>\n",
       "      <td>0.86630</td>\n",
       "      <td>0.6869</td>\n",
       "      <td>0.2575</td>\n",
       "      <td>0.6638</td>\n",
       "      <td>0.17300</td>\n",
       "      <td>malignant</td>\n",
       "    </tr>\n",
       "    <tr>\n",
       "      <th>4</th>\n",
       "      <td>20.29</td>\n",
       "      <td>14.34</td>\n",
       "      <td>135.10</td>\n",
       "      <td>1297.0</td>\n",
       "      <td>0.10030</td>\n",
       "      <td>0.13280</td>\n",
       "      <td>0.19800</td>\n",
       "      <td>0.10430</td>\n",
       "      <td>0.1809</td>\n",
       "      <td>0.05883</td>\n",
       "      <td>...</td>\n",
       "      <td>16.67</td>\n",
       "      <td>152.20</td>\n",
       "      <td>1575.0</td>\n",
       "      <td>0.13740</td>\n",
       "      <td>0.20500</td>\n",
       "      <td>0.4000</td>\n",
       "      <td>0.1625</td>\n",
       "      <td>0.2364</td>\n",
       "      <td>0.07678</td>\n",
       "      <td>malignant</td>\n",
       "    </tr>\n",
       "    <tr>\n",
       "      <th>...</th>\n",
       "      <td>...</td>\n",
       "      <td>...</td>\n",
       "      <td>...</td>\n",
       "      <td>...</td>\n",
       "      <td>...</td>\n",
       "      <td>...</td>\n",
       "      <td>...</td>\n",
       "      <td>...</td>\n",
       "      <td>...</td>\n",
       "      <td>...</td>\n",
       "      <td>...</td>\n",
       "      <td>...</td>\n",
       "      <td>...</td>\n",
       "      <td>...</td>\n",
       "      <td>...</td>\n",
       "      <td>...</td>\n",
       "      <td>...</td>\n",
       "      <td>...</td>\n",
       "      <td>...</td>\n",
       "      <td>...</td>\n",
       "      <td>...</td>\n",
       "    </tr>\n",
       "    <tr>\n",
       "      <th>564</th>\n",
       "      <td>21.56</td>\n",
       "      <td>22.39</td>\n",
       "      <td>142.00</td>\n",
       "      <td>1479.0</td>\n",
       "      <td>0.11100</td>\n",
       "      <td>0.11590</td>\n",
       "      <td>0.24390</td>\n",
       "      <td>0.13890</td>\n",
       "      <td>0.1726</td>\n",
       "      <td>0.05623</td>\n",
       "      <td>...</td>\n",
       "      <td>26.40</td>\n",
       "      <td>166.10</td>\n",
       "      <td>2027.0</td>\n",
       "      <td>0.14100</td>\n",
       "      <td>0.21130</td>\n",
       "      <td>0.4107</td>\n",
       "      <td>0.2216</td>\n",
       "      <td>0.2060</td>\n",
       "      <td>0.07115</td>\n",
       "      <td>malignant</td>\n",
       "    </tr>\n",
       "    <tr>\n",
       "      <th>565</th>\n",
       "      <td>20.13</td>\n",
       "      <td>28.25</td>\n",
       "      <td>131.20</td>\n",
       "      <td>1261.0</td>\n",
       "      <td>0.09780</td>\n",
       "      <td>0.10340</td>\n",
       "      <td>0.14400</td>\n",
       "      <td>0.09791</td>\n",
       "      <td>0.1752</td>\n",
       "      <td>0.05533</td>\n",
       "      <td>...</td>\n",
       "      <td>38.25</td>\n",
       "      <td>155.00</td>\n",
       "      <td>1731.0</td>\n",
       "      <td>0.11660</td>\n",
       "      <td>0.19220</td>\n",
       "      <td>0.3215</td>\n",
       "      <td>0.1628</td>\n",
       "      <td>0.2572</td>\n",
       "      <td>0.06637</td>\n",
       "      <td>malignant</td>\n",
       "    </tr>\n",
       "    <tr>\n",
       "      <th>566</th>\n",
       "      <td>16.60</td>\n",
       "      <td>28.08</td>\n",
       "      <td>108.30</td>\n",
       "      <td>858.1</td>\n",
       "      <td>0.08455</td>\n",
       "      <td>0.10230</td>\n",
       "      <td>0.09251</td>\n",
       "      <td>0.05302</td>\n",
       "      <td>0.1590</td>\n",
       "      <td>0.05648</td>\n",
       "      <td>...</td>\n",
       "      <td>34.12</td>\n",
       "      <td>126.70</td>\n",
       "      <td>1124.0</td>\n",
       "      <td>0.11390</td>\n",
       "      <td>0.30940</td>\n",
       "      <td>0.3403</td>\n",
       "      <td>0.1418</td>\n",
       "      <td>0.2218</td>\n",
       "      <td>0.07820</td>\n",
       "      <td>malignant</td>\n",
       "    </tr>\n",
       "    <tr>\n",
       "      <th>567</th>\n",
       "      <td>20.60</td>\n",
       "      <td>29.33</td>\n",
       "      <td>140.10</td>\n",
       "      <td>1265.0</td>\n",
       "      <td>0.11780</td>\n",
       "      <td>0.27700</td>\n",
       "      <td>0.35140</td>\n",
       "      <td>0.15200</td>\n",
       "      <td>0.2397</td>\n",
       "      <td>0.07016</td>\n",
       "      <td>...</td>\n",
       "      <td>39.42</td>\n",
       "      <td>184.60</td>\n",
       "      <td>1821.0</td>\n",
       "      <td>0.16500</td>\n",
       "      <td>0.86810</td>\n",
       "      <td>0.9387</td>\n",
       "      <td>0.2650</td>\n",
       "      <td>0.4087</td>\n",
       "      <td>0.12400</td>\n",
       "      <td>malignant</td>\n",
       "    </tr>\n",
       "    <tr>\n",
       "      <th>568</th>\n",
       "      <td>7.76</td>\n",
       "      <td>24.54</td>\n",
       "      <td>47.92</td>\n",
       "      <td>181.0</td>\n",
       "      <td>0.05263</td>\n",
       "      <td>0.04362</td>\n",
       "      <td>0.00000</td>\n",
       "      <td>0.00000</td>\n",
       "      <td>0.1587</td>\n",
       "      <td>0.05884</td>\n",
       "      <td>...</td>\n",
       "      <td>30.37</td>\n",
       "      <td>59.16</td>\n",
       "      <td>268.6</td>\n",
       "      <td>0.08996</td>\n",
       "      <td>0.06444</td>\n",
       "      <td>0.0000</td>\n",
       "      <td>0.0000</td>\n",
       "      <td>0.2871</td>\n",
       "      <td>0.07039</td>\n",
       "      <td>benign</td>\n",
       "    </tr>\n",
       "  </tbody>\n",
       "</table>\n",
       "<p>569 rows × 31 columns</p>\n",
       "</div>"
      ],
      "text/plain": [
       "     mean radius  mean texture  mean perimeter  mean area  mean smoothness  \\\n",
       "0          17.99         10.38          122.80     1001.0          0.11840   \n",
       "1          20.57         17.77          132.90     1326.0          0.08474   \n",
       "2          19.69         21.25          130.00     1203.0          0.10960   \n",
       "3          11.42         20.38           77.58      386.1          0.14250   \n",
       "4          20.29         14.34          135.10     1297.0          0.10030   \n",
       "..           ...           ...             ...        ...              ...   \n",
       "564        21.56         22.39          142.00     1479.0          0.11100   \n",
       "565        20.13         28.25          131.20     1261.0          0.09780   \n",
       "566        16.60         28.08          108.30      858.1          0.08455   \n",
       "567        20.60         29.33          140.10     1265.0          0.11780   \n",
       "568         7.76         24.54           47.92      181.0          0.05263   \n",
       "\n",
       "     mean compactness  mean concavity  mean concave points  mean symmetry  \\\n",
       "0             0.27760         0.30010              0.14710         0.2419   \n",
       "1             0.07864         0.08690              0.07017         0.1812   \n",
       "2             0.15990         0.19740              0.12790         0.2069   \n",
       "3             0.28390         0.24140              0.10520         0.2597   \n",
       "4             0.13280         0.19800              0.10430         0.1809   \n",
       "..                ...             ...                  ...            ...   \n",
       "564           0.11590         0.24390              0.13890         0.1726   \n",
       "565           0.10340         0.14400              0.09791         0.1752   \n",
       "566           0.10230         0.09251              0.05302         0.1590   \n",
       "567           0.27700         0.35140              0.15200         0.2397   \n",
       "568           0.04362         0.00000              0.00000         0.1587   \n",
       "\n",
       "     mean fractal dimension  ...  worst texture  worst perimeter  worst area  \\\n",
       "0                   0.07871  ...          17.33           184.60      2019.0   \n",
       "1                   0.05667  ...          23.41           158.80      1956.0   \n",
       "2                   0.05999  ...          25.53           152.50      1709.0   \n",
       "3                   0.09744  ...          26.50            98.87       567.7   \n",
       "4                   0.05883  ...          16.67           152.20      1575.0   \n",
       "..                      ...  ...            ...              ...         ...   \n",
       "564                 0.05623  ...          26.40           166.10      2027.0   \n",
       "565                 0.05533  ...          38.25           155.00      1731.0   \n",
       "566                 0.05648  ...          34.12           126.70      1124.0   \n",
       "567                 0.07016  ...          39.42           184.60      1821.0   \n",
       "568                 0.05884  ...          30.37            59.16       268.6   \n",
       "\n",
       "     worst smoothness  worst compactness  worst concavity  \\\n",
       "0             0.16220            0.66560           0.7119   \n",
       "1             0.12380            0.18660           0.2416   \n",
       "2             0.14440            0.42450           0.4504   \n",
       "3             0.20980            0.86630           0.6869   \n",
       "4             0.13740            0.20500           0.4000   \n",
       "..                ...                ...              ...   \n",
       "564           0.14100            0.21130           0.4107   \n",
       "565           0.11660            0.19220           0.3215   \n",
       "566           0.11390            0.30940           0.3403   \n",
       "567           0.16500            0.86810           0.9387   \n",
       "568           0.08996            0.06444           0.0000   \n",
       "\n",
       "     worst concave points  worst symmetry  worst fractal dimension  \\\n",
       "0                  0.2654          0.4601                  0.11890   \n",
       "1                  0.1860          0.2750                  0.08902   \n",
       "2                  0.2430          0.3613                  0.08758   \n",
       "3                  0.2575          0.6638                  0.17300   \n",
       "4                  0.1625          0.2364                  0.07678   \n",
       "..                    ...             ...                      ...   \n",
       "564                0.2216          0.2060                  0.07115   \n",
       "565                0.1628          0.2572                  0.06637   \n",
       "566                0.1418          0.2218                  0.07820   \n",
       "567                0.2650          0.4087                  0.12400   \n",
       "568                0.0000          0.2871                  0.07039   \n",
       "\n",
       "     target_names  \n",
       "0       malignant  \n",
       "1       malignant  \n",
       "2       malignant  \n",
       "3       malignant  \n",
       "4       malignant  \n",
       "..            ...  \n",
       "564     malignant  \n",
       "565     malignant  \n",
       "566     malignant  \n",
       "567     malignant  \n",
       "568        benign  \n",
       "\n",
       "[569 rows x 31 columns]"
      ]
     },
     "execution_count": 156,
     "metadata": {},
     "output_type": "execute_result"
    }
   ],
   "source": [
    "df = pd.DataFrame(data = cancer.data, columns = cancer.feature_names)\n",
    "df['target_names'] = pd.Categorical.from_codes(cancer.target, cancer.target_names)\n",
    "df"
   ]
  },
  {
   "cell_type": "code",
   "execution_count": 157,
   "id": "d9b3c975-c5a9-4608-b51a-3b99402c5fbc",
   "metadata": {},
   "outputs": [],
   "source": [
    "classes = pd.unique(df.iloc[:,-1])\n",
    "data = df.values\n",
    "nrow,ncol = data.shape\n",
    "y = data[:,-1]\n",
    "X = data[:,0:ncol-1]\n",
    "from sklearn.preprocessing import StandardScaler\n",
    "scaler = StandardScaler().fit(X)\n",
    "X = scaler.transform(X)"
   ]
  },
  {
   "cell_type": "code",
   "execution_count": 158,
   "id": "84c007d9-faeb-4f7f-8f5e-db85bfc94e31",
   "metadata": {},
   "outputs": [],
   "source": [
    "from sklearn.model_selection import train_test_split\n",
    "X_train, X_test, y_train, y_test = train_test_split(X, y, test_size =0.2, random_state=3)"
   ]
  },
  {
   "cell_type": "code",
   "execution_count": 159,
   "id": "fb9fe429-f34c-4ce9-ba1f-2887814a1a02",
   "metadata": {},
   "outputs": [
    {
     "name": "stdout",
     "output_type": "stream",
     "text": [
      "Accuracy: 0.956140350877193\n",
      "Accuracy: 0.9912280701754386\n",
      "Accuracy: 0.9824561403508771\n",
      "Accuracy: 0.9912280701754386\n",
      "Accuracy: 0.9736842105263158\n",
      "Accuracy: 0.956140350877193\n",
      "Accuracy: 0.956140350877193\n",
      "Accuracy: 0.956140350877193\n",
      "Accuracy: 0.9912280701754386\n",
      "Accuracy: 0.9736842105263158\n",
      "Accuracy: 0.9824561403508771\n",
      "Accuracy: 0.9385964912280702\n",
      "Accuracy: 0.9912280701754386\n",
      "Accuracy: 0.9824561403508771\n",
      "Accuracy: 1.0\n",
      "Accuracy: 0.9385964912280702\n",
      "Accuracy: 0.9736842105263158\n",
      "Accuracy: 0.9649122807017544\n",
      "Accuracy: 0.9649122807017544\n",
      "Accuracy: 0.9824561403508771\n"
     ]
    }
   ],
   "source": [
    "y_prede = []\n",
    "y_teste = []\n",
    "taxa_de_acerto = []\n",
    "for i in range(20):\n",
    "    from sklearn.model_selection import train_test_split\n",
    "    X_train, X_test, y_train, y_test = train_test_split(X, y, test_size =0.2)\n",
    "    y_teste.append(y_test)\n",
    "    clf = svm.SVC(kernel='linear', C=1, decision_function_shape='ovr')\n",
    "    clf.fit(X_train, y_train)\n",
    "    p = clf.predict(X_test)\n",
    "    score = accuracy_score(p, y_test)\n",
    "    taxa_de_acerto.append(score)\n",
    "    print('Accuracy:', score)\n",
    "    y_prede.append(p)"
   ]
  },
  {
   "cell_type": "code",
   "execution_count": 160,
   "id": "0a3ff5a8-860c-4d47-8c29-589e4d661d18",
   "metadata": {},
   "outputs": [
    {
     "name": "stdout",
     "output_type": "stream",
     "text": [
      "0.9723684210526315\n"
     ]
    }
   ],
   "source": [
    "media = np.mean(taxa_de_acerto)\n",
    "representante = geclosest(media, taxa_de_acerto)\n",
    "print(media)"
   ]
  },
  {
   "cell_type": "code",
   "execution_count": 161,
   "id": "5fe2759d-67b1-40ff-b0b2-e48f07d366c6",
   "metadata": {},
   "outputs": [],
   "source": [
    "representante = geclosest(media, taxa_de_acerto)"
   ]
  },
  {
   "cell_type": "code",
   "execution_count": 162,
   "id": "e5dd1f9b-c0a5-4b78-8377-f7b5f6e2089e",
   "metadata": {},
   "outputs": [
    {
     "data": {
      "image/png": "[encoded data removed]",
      "text/plain": [
       "<Figure size 720x360 with 2 Axes>"
      ]
     },
     "metadata": {
      "needs_background": "light"
     },
     "output_type": "display_data"
    }
   ],
   "source": [
    "from sklearn.metrics import confusion_matrix, plot_confusion_matrix\n",
    "fig, ax = plt.subplots(figsize=(10,5))\n",
    "conf = confusion_matrix(y_teste[representante], y_prede[representante])\n",
    "res = sns.heatmap(conf, annot=True,fmt=\"d\", cmap=plt.cm.Blues, ax=ax)\n",
    "plt.title('Matriz de Confusão')\n",
    "plt.show;"
   ]
  },
  {
   "cell_type": "code",
   "execution_count": 163,
   "id": "b646f9a8-71c1-404a-8051-4ffd7a5e3d97",
   "metadata": {},
   "outputs": [
    {
     "data": {
      "text/plain": [
       "0.9824561403508771"
      ]
     },
     "execution_count": 163,
     "metadata": {},
     "output_type": "execute_result"
    },
    {
     "data": {
      "image/png": "[encoded data removed]",
      "text/plain": [
       "<Figure size 432x288 with 1 Axes>"
      ]
     },
     "metadata": {
      "needs_background": "light"
     },
     "output_type": "display_data"
    }
   ],
   "source": [
    "from yellowbrick.classifier import ConfusionMatrix\n",
    "cm = ConfusionMatrix(clf)\n",
    "cm.fit(X_train, y_train)\n",
    "cm.score(X_test, y_test)"
   ]
  },
  {
   "cell_type": "code",
   "execution_count": 164,
   "id": "0c9b154c-01d0-421b-bfd7-9950e5fd7372",
   "metadata": {},
   "outputs": [
    {
     "name": "stdout",
     "output_type": "stream",
     "text": [
      "              precision    recall  f1-score   support\n",
      "\n",
      "      benign       0.96      1.00      0.98        68\n",
      "   malignant       1.00      0.93      0.97        46\n",
      "\n",
      "    accuracy                           0.97       114\n",
      "   macro avg       0.98      0.97      0.97       114\n",
      "weighted avg       0.97      0.97      0.97       114\n",
      "\n"
     ]
    }
   ],
   "source": [
    "print(classification_report(y_teste[representante], y_prede[representante]))"
   ]
  },
  {
   "cell_type": "code",
   "execution_count": 165,
   "id": "6369be3d-4e0c-4f0a-b7d5-e77ce80b89a7",
   "metadata": {},
   "outputs": [
    {
     "data": {
      "image/png": "[encoded data removed]",
      "text/plain": [
       "<Figure size 432x288 with 1 Axes>"
      ]
     },
     "metadata": {
      "needs_background": "light"
     },
     "output_type": "display_data"
    }
   ],
   "source": [
    "from sklearn.model_selection import train_test_split\n",
    "clf = svm.SVC(kernel='linear', C=1, decision_function_shape='ovr')\n",
    "#clf.fit(X_train, y_train)\n",
    "clf.fit(X_train[:,[2,3]], y_train)\n",
    "#predictions = nb.predict(X_test)\n",
    "make_plot(clf ,'SVM_iris',X_test[:,[2,3]],y_test,np.unique(y_test))"
   ]
  },
  {
   "cell_type": "code",
   "execution_count": 166,
   "id": "d67cb52e-33a7-4162-9c5e-1df9827fa328",
   "metadata": {},
   "outputs": [
    {
     "name": "stdout",
     "output_type": "stream",
     "text": [
      "^C\n",
      "Archive:  column_data.zip\n",
      "  End-of-central-directory signature not found.  Either this file is not\n",
      "  a zipfile, or it constitutes one disk of a multi-part archive.  In the\n",
      "  latter case the central directory and zipfile comment will be found on\n",
      "  the last disk(s) of this archive.\n",
      "unzip:  cannot find zipfile directory in one of column_data.zip or\n",
      "        column_data.zip.zip, and cannot find column_data.zip.ZIP, period.\n"
     ]
    }
   ],
   "source": [
    "!wget -q 'http://archive.ics.uci.edu/ml/machine-learning-databases/00212/vertebral_column_data.zip' -O 'column_data.zip'\n",
    "!unzip  'column_data.zip' -d '.'"
   ]
  },
  {
   "cell_type": "code",
   "execution_count": 168,
   "id": "ec6989a5-608c-4495-a431-d73d140ed134",
   "metadata": {},
   "outputs": [
    {
     "data": {
      "text/html": [
       "<div>\n",
       "<style scoped>\n",
       "    .dataframe tbody tr th:only-of-type {\n",
       "        vertical-align: middle;\n",
       "    }\n",
       "\n",
       "    .dataframe tbody tr th {\n",
       "        vertical-align: top;\n",
       "    }\n",
       "\n",
       "    .dataframe thead th {\n",
       "        text-align: right;\n",
       "    }\n",
       "</style>\n",
       "<table border=\"1\" class=\"dataframe\">\n",
       "  <thead>\n",
       "    <tr style=\"text-align: right;\">\n",
       "      <th></th>\n",
       "      <th>0</th>\n",
       "      <th>1</th>\n",
       "      <th>2</th>\n",
       "      <th>3</th>\n",
       "      <th>4</th>\n",
       "      <th>5</th>\n",
       "      <th>6</th>\n",
       "    </tr>\n",
       "  </thead>\n",
       "  <tbody>\n",
       "    <tr>\n",
       "      <th>0</th>\n",
       "      <td>63.03</td>\n",
       "      <td>22.55</td>\n",
       "      <td>39.61</td>\n",
       "      <td>40.48</td>\n",
       "      <td>98.67</td>\n",
       "      <td>-0.25</td>\n",
       "      <td>AB</td>\n",
       "    </tr>\n",
       "    <tr>\n",
       "      <th>1</th>\n",
       "      <td>39.06</td>\n",
       "      <td>10.06</td>\n",
       "      <td>25.02</td>\n",
       "      <td>29.00</td>\n",
       "      <td>114.41</td>\n",
       "      <td>4.56</td>\n",
       "      <td>AB</td>\n",
       "    </tr>\n",
       "    <tr>\n",
       "      <th>2</th>\n",
       "      <td>68.83</td>\n",
       "      <td>22.22</td>\n",
       "      <td>50.09</td>\n",
       "      <td>46.61</td>\n",
       "      <td>105.99</td>\n",
       "      <td>-3.53</td>\n",
       "      <td>AB</td>\n",
       "    </tr>\n",
       "    <tr>\n",
       "      <th>3</th>\n",
       "      <td>69.30</td>\n",
       "      <td>24.65</td>\n",
       "      <td>44.31</td>\n",
       "      <td>44.64</td>\n",
       "      <td>101.87</td>\n",
       "      <td>11.21</td>\n",
       "      <td>AB</td>\n",
       "    </tr>\n",
       "    <tr>\n",
       "      <th>4</th>\n",
       "      <td>49.71</td>\n",
       "      <td>9.65</td>\n",
       "      <td>28.32</td>\n",
       "      <td>40.06</td>\n",
       "      <td>108.17</td>\n",
       "      <td>7.92</td>\n",
       "      <td>AB</td>\n",
       "    </tr>\n",
       "    <tr>\n",
       "      <th>...</th>\n",
       "      <td>...</td>\n",
       "      <td>...</td>\n",
       "      <td>...</td>\n",
       "      <td>...</td>\n",
       "      <td>...</td>\n",
       "      <td>...</td>\n",
       "      <td>...</td>\n",
       "    </tr>\n",
       "    <tr>\n",
       "      <th>305</th>\n",
       "      <td>47.90</td>\n",
       "      <td>13.62</td>\n",
       "      <td>36.00</td>\n",
       "      <td>34.29</td>\n",
       "      <td>117.45</td>\n",
       "      <td>-4.25</td>\n",
       "      <td>NO</td>\n",
       "    </tr>\n",
       "    <tr>\n",
       "      <th>306</th>\n",
       "      <td>53.94</td>\n",
       "      <td>20.72</td>\n",
       "      <td>29.22</td>\n",
       "      <td>33.22</td>\n",
       "      <td>114.37</td>\n",
       "      <td>-0.42</td>\n",
       "      <td>NO</td>\n",
       "    </tr>\n",
       "    <tr>\n",
       "      <th>307</th>\n",
       "      <td>61.45</td>\n",
       "      <td>22.69</td>\n",
       "      <td>46.17</td>\n",
       "      <td>38.75</td>\n",
       "      <td>125.67</td>\n",
       "      <td>-2.71</td>\n",
       "      <td>NO</td>\n",
       "    </tr>\n",
       "    <tr>\n",
       "      <th>308</th>\n",
       "      <td>45.25</td>\n",
       "      <td>8.69</td>\n",
       "      <td>41.58</td>\n",
       "      <td>36.56</td>\n",
       "      <td>118.55</td>\n",
       "      <td>0.21</td>\n",
       "      <td>NO</td>\n",
       "    </tr>\n",
       "    <tr>\n",
       "      <th>309</th>\n",
       "      <td>33.84</td>\n",
       "      <td>5.07</td>\n",
       "      <td>36.64</td>\n",
       "      <td>28.77</td>\n",
       "      <td>123.95</td>\n",
       "      <td>-0.20</td>\n",
       "      <td>NO</td>\n",
       "    </tr>\n",
       "  </tbody>\n",
       "</table>\n",
       "<p>310 rows × 7 columns</p>\n",
       "</div>"
      ],
      "text/plain": [
       "         0      1      2      3       4      5   6\n",
       "0    63.03  22.55  39.61  40.48   98.67  -0.25  AB\n",
       "1    39.06  10.06  25.02  29.00  114.41   4.56  AB\n",
       "2    68.83  22.22  50.09  46.61  105.99  -3.53  AB\n",
       "3    69.30  24.65  44.31  44.64  101.87  11.21  AB\n",
       "4    49.71   9.65  28.32  40.06  108.17   7.92  AB\n",
       "..     ...    ...    ...    ...     ...    ...  ..\n",
       "305  47.90  13.62  36.00  34.29  117.45  -4.25  NO\n",
       "306  53.94  20.72  29.22  33.22  114.37  -0.42  NO\n",
       "307  61.45  22.69  46.17  38.75  125.67  -2.71  NO\n",
       "308  45.25   8.69  41.58  36.56  118.55   0.21  NO\n",
       "309  33.84   5.07  36.64  28.77  123.95  -0.20  NO\n",
       "\n",
       "[310 rows x 7 columns]"
      ]
     },
     "execution_count": 168,
     "metadata": {},
     "output_type": "execute_result"
    }
   ],
   "source": [
    "coluna = pd.read_csv('column_2C.dat', sep = ' ',  header=None)\n",
    "coluna"
   ]
  },
  {
   "cell_type": "code",
   "execution_count": 169,
   "id": "93e9281c-d5ae-4bf2-a282-bbb44e0a0bfa",
   "metadata": {},
   "outputs": [],
   "source": [
    "data = coluna.to_numpy()\n",
    "nrow,ncol = data.shape\n",
    "y = data[:,-1]\n",
    "X = data[:,0:ncol-1]"
   ]
  },
  {
   "cell_type": "code",
   "execution_count": 170,
   "id": "79a3ffbd-64cf-4831-af75-96ac041541c0",
   "metadata": {},
   "outputs": [],
   "source": [
    "from sklearn.preprocessing import StandardScaler\n",
    "scaler = StandardScaler().fit(X)\n",
    "X = scaler.transform(X)"
   ]
  },
  {
   "cell_type": "code",
   "execution_count": 171,
   "id": "e935c2d8-d05a-40b7-af80-4995eaec591e",
   "metadata": {},
   "outputs": [
    {
     "name": "stdout",
     "output_type": "stream",
     "text": [
      "Accuracy: 0.9193548387096774\n",
      "Accuracy: 0.8064516129032258\n",
      "Accuracy: 0.8548387096774194\n",
      "Accuracy: 0.8548387096774194\n",
      "Accuracy: 0.8387096774193549\n",
      "Accuracy: 0.8709677419354839\n",
      "Accuracy: 0.8709677419354839\n",
      "Accuracy: 0.8064516129032258\n",
      "Accuracy: 0.7419354838709677\n",
      "Accuracy: 0.8709677419354839\n",
      "Accuracy: 0.8225806451612904\n",
      "Accuracy: 0.8387096774193549\n",
      "Accuracy: 0.8870967741935484\n",
      "Accuracy: 0.9193548387096774\n",
      "Accuracy: 0.8387096774193549\n",
      "Accuracy: 0.967741935483871\n",
      "Accuracy: 0.8225806451612904\n",
      "Accuracy: 0.8387096774193549\n",
      "Accuracy: 0.9032258064516129\n",
      "Accuracy: 0.8870967741935484\n"
     ]
    }
   ],
   "source": [
    "y_prede = []\n",
    "y_teste = []\n",
    "taxa_de_acerto = []\n",
    "for i in range(20):\n",
    "    from sklearn.model_selection import train_test_split\n",
    "    X_train, X_test, y_train, y_test = train_test_split(X, y, test_size =0.2)\n",
    "    y_teste.append(y_test)\n",
    "    clf = svm.SVC(kernel='linear', C=1, decision_function_shape='ovr')\n",
    "    clf.fit(X_train, y_train)\n",
    "    p = clf.predict(X_test)\n",
    "    score = accuracy_score(p, y_test)\n",
    "    taxa_de_acerto.append(score)\n",
    "    print('Accuracy:', score)\n",
    "    y_prede.append(p)"
   ]
  },
  {
   "cell_type": "code",
   "execution_count": 172,
   "id": "99e7376b-9144-4d16-8da4-1e959e6936bf",
   "metadata": {},
   "outputs": [
    {
     "name": "stdout",
     "output_type": "stream",
     "text": [
      "0.8580645161290322\n"
     ]
    }
   ],
   "source": [
    "media = np.mean(taxa_de_acerto)\n",
    "representante = geclosest(media, taxa_de_acerto)\n",
    "print(media)"
   ]
  },
  {
   "cell_type": "code",
   "execution_count": 173,
   "id": "00c298b5-de1d-4c65-a05d-0ee1fad1ef10",
   "metadata": {},
   "outputs": [],
   "source": [
    "representante = geclosest(media, taxa_de_acerto)"
   ]
  },
  {
   "cell_type": "code",
   "execution_count": 174,
   "id": "5babb9ea-0b0a-47cb-af97-1b4104c8cc62",
   "metadata": {},
   "outputs": [
    {
     "data": {
      "image/png": "[encoded data removed]",
      "text/plain": [
       "<Figure size 720x360 with 2 Axes>"
      ]
     },
     "metadata": {
      "needs_background": "light"
     },
     "output_type": "display_data"
    }
   ],
   "source": [
    "from sklearn.metrics import confusion_matrix, plot_confusion_matrix\n",
    "fig, ax = plt.subplots(figsize=(10,5))\n",
    "conf = confusion_matrix(y_teste[representante], y_prede[representante])\n",
    "res = sns.heatmap(conf, annot=True,fmt=\"d\", cmap=plt.cm.Blues, ax=ax)\n",
    "plt.title('Matriz de Confusão')\n",
    "plt.show;"
   ]
  },
  {
   "cell_type": "code",
   "execution_count": 175,
   "id": "b2d910b3-bc7b-432c-b907-27e7aeb7d8d1",
   "metadata": {},
   "outputs": [
    {
     "data": {
      "text/plain": [
       "0.8870967741935484"
      ]
     },
     "execution_count": 175,
     "metadata": {},
     "output_type": "execute_result"
    },
    {
     "data": {
      "image/png": "[encoded data removed]",
      "text/plain": [
       "<Figure size 432x288 with 1 Axes>"
      ]
     },
     "metadata": {
      "needs_background": "light"
     },
     "output_type": "display_data"
    }
   ],
   "source": [
    "from yellowbrick.classifier import ConfusionMatrix\n",
    "cm = ConfusionMatrix(clf)\n",
    "cm.fit(X_train, y_train)\n",
    "cm.score(X_test, y_test)"
   ]
  },
  {
   "cell_type": "code",
   "execution_count": 176,
   "id": "c1a4bcc3-7706-44da-978f-1816d9536577",
   "metadata": {},
   "outputs": [
    {
     "name": "stdout",
     "output_type": "stream",
     "text": [
      "              precision    recall  f1-score   support\n",
      "\n",
      "          AB       0.93      0.86      0.89        43\n",
      "          NO       0.73      0.84      0.78        19\n",
      "\n",
      "    accuracy                           0.85        62\n",
      "   macro avg       0.83      0.85      0.84        62\n",
      "weighted avg       0.86      0.85      0.86        62\n",
      "\n"
     ]
    }
   ],
   "source": [
    "print(classification_report(y_teste[representante], y_prede[representante]))"
   ]
  },
  {
   "cell_type": "code",
   "execution_count": 194,
   "id": "d059b0f2-b4df-44bb-82d1-c7977a2cedb1",
   "metadata": {},
   "outputs": [
    {
     "data": {
      "image/png": "[encoded data removed]",
      "text/plain": [
       "<Figure size 432x288 with 1 Axes>"
      ]
     },
     "metadata": {
      "needs_background": "light"
     },
     "output_type": "display_data"
    }
   ],
   "source": [
    "from sklearn.model_selection import train_test_split\n",
    "clf = svm.SVC(kernel='linear', C=1, decision_function_shape='ovr')\n",
    "clf.fit(X_train[:,[1,2]], y_train)\n",
    "make_plot(clf ,'SVM_coluna',X_test[:,[1,2]],y_test,np.unique(y_test))"
   ]
  },
  {
   "cell_type": "code",
   "execution_count": null,
   "id": "c9f1d23d-c16e-4877-a736-3614831e4d70",
   "metadata": {},
   "outputs": [],
   "source": []
  },
  {
   "cell_type": "code",
   "execution_count": null,
   "id": "01e47c8d-3e30-4208-a2e7-2dec59d37973",
   "metadata": {},
   "outputs": [],
   "source": []
  }
 ],
 "metadata": {
  "kernelspec": {
   "display_name": "Python 3 (ipykernel)",
   "language": "python",
   "name": "python3"
  },
  "language_info": {
   "codemirror_mode": {
    "name": "ipython",
    "version": 3
   },
   "file_extension": ".py",
   "mimetype": "text/x-python",
   "name": "python",
   "nbconvert_exporter": "python",
   "pygments_lexer": "ipython3",
   "version": "3.9.12"
  }
 },
 "nbformat": 4,
 "nbformat_minor": 5
}
